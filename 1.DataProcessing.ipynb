{
 "cells": [
  {
   "cell_type": "code",
   "execution_count": 1,
   "metadata": {},
   "outputs": [],
   "source": [
    "# Import packages\n",
    "import os\n",
    "import shutil\n",
    "import pandas as pd\n",
    "from PIL import Image\n",
    "import pickle"
   ]
  },
  {
   "cell_type": "markdown",
   "metadata": {},
   "source": [
    "## Obtain patient data"
   ]
  },
  {
   "cell_type": "code",
   "execution_count": 2,
   "metadata": {},
   "outputs": [],
   "source": [
    "patient = pd.read_csv('PatientDiagnosis.csv')"
   ]
  },
  {
   "cell_type": "code",
   "execution_count": 3,
   "metadata": {},
   "outputs": [],
   "source": [
    "# Separate sane and infected patients\n",
    "patients = []\n",
    "\n",
    "patients.append(patient.loc[patient['DENSITAT'] == 'NEGATIVA']['CODI'].values.tolist())\n",
    "patients.append(patient.loc[patient['DENSITAT'] != 'NEGATIVA']['CODI'].values.tolist())"
   ]
  },
  {
   "cell_type": "code",
   "execution_count": 4,
   "metadata": {},
   "outputs": [],
   "source": [
    "# Save data onto a pickle file\n",
    "with open('patients.pkl', 'wb') as f:\n",
    "    pickle.dump(patients, f)"
   ]
  },
  {
   "cell_type": "markdown",
   "metadata": {},
   "source": [
    "## Extract information from datasets"
   ]
  },
  {
   "cell_type": "code",
   "execution_count": 5,
   "metadata": {},
   "outputs": [],
   "source": [
    "# Read file with labels, training data\n",
    "xl_file = pd.ExcelFile('HP_WSI-CoordAnnotatedPatches.xlsx')\n",
    "\n",
    "dfs = {sheet_name: xl_file.parse(sheet_name) for sheet_name in xl_file.sheet_names}\n",
    "\n",
    "df = dfs['Sheet1']\n",
    "df = df.loc[df['Presence'] != 0] # Delete uncertain cases"
   ]
  },
  {
   "cell_type": "code",
   "execution_count": 6,
   "metadata": {},
   "outputs": [],
   "source": [
    "def extract_data(source_folder, destination_folder, patients, test=True, data=None):\n",
    "    ''' \n",
    "    Function to extract information from the datasets.\n",
    "    It reads all the images and saves them into a new folder with all the information on its filename. This way, images can be easily\n",
    "    treated without losing information. Patients variable contains the list of all patient codes.\n",
    "    When the test option is true, the function just extracts the patient information.\n",
    "    When the test option is false, patient information, window_id and label are extracted. A dataframe data with the information must be\n",
    "    passed.\n",
    "    '''\n",
    "\n",
    "    # Step 1: Create destination folder if it doesn't exist\n",
    "    if not os.path.exists(destination_folder):\n",
    "        os.makedirs(destination_folder)\n",
    "        print(f\"Created folder: {destination_folder}\")    \n",
    "    \n",
    "    # Step 2: Loop through each patient folder\n",
    "    for patient in patients['CODI'].unique():        \n",
    "        pat_path = os.path.join(source_folder, patient+'_0')\n",
    "        if not os.path.exists(pat_path):\n",
    "            pat_path = ''\n",
    "            pat_path = os.path.join(source_folder, patient+'_1')\n",
    "            if not os.path.exists(pat_path):\n",
    "                print(f\"Patient folder does not exist: {pat_path}\")\n",
    "                continue\n",
    "        \n",
    "        # Step 3: Get list of all image files in the source folder\n",
    "        image_files = [f for f in os.listdir(pat_path) if f.endswith(('.png', '.jpg', '.jpeg'))]\n",
    "        \n",
    "        # Step 4: Rename and save each image to the destination folder\n",
    "\n",
    "        # Obtain data from test set\n",
    "        if test:\n",
    "            for filename in image_files:\n",
    "                # Define the new file name \n",
    "                new_filename = f\"{patient}__{filename}\"\n",
    "                \n",
    "                # Define full path for source and destination\n",
    "                src_path = os.path.join(pat_path, filename)\n",
    "                dst_path = os.path.join(destination_folder, new_filename)\n",
    "                \n",
    "                # Copy and rename the file\n",
    "                shutil.copy(src_path, dst_path)\n",
    "        \n",
    "        # Obtain data from training set\n",
    "        else:\n",
    "            for filename in image_files:\n",
    "                # Define the new file name \n",
    "                window_id = filename.split('_')[0].split('.')[0].lstrip('0')\n",
    "                if window_id == '':\n",
    "                    window_id = 0\n",
    "\n",
    "                label = data.loc[data['Pat_ID'] == patient]            \n",
    "                label = label.loc[label['Window_ID'] == int(window_id)]\n",
    "                if label.empty:\n",
    "                    continue\n",
    "\n",
    "                name = os.path.splitext(filename)[0].lstrip('0')\n",
    "                if name == '':\n",
    "                    name = '0'\n",
    "                    \n",
    "                new_filename = f\"{patient}__{name}__{label.iloc[0]['Presence']}{os.path.splitext(filename)[1]}\"\n",
    "                \n",
    "                # Define full path for source and destination\n",
    "                src_path = os.path.join(pat_path, filename)\n",
    "                dst_path = os.path.join(destination_folder, new_filename)\n",
    "                \n",
    "                # Copy and rename the file\n",
    "                shutil.copy(src_path, dst_path)"
   ]
  },
  {
   "cell_type": "code",
   "execution_count": null,
   "metadata": {},
   "outputs": [],
   "source": [
    "# Calling function to process train and test sets\n",
    "extract_data(\"Raw_Train_Set\", \"Training_Set\", patient, test=False, data=df)\n",
    "extract_data(\"Raw_Test_Set\", \"Test_Set\", patient, test=True)"
   ]
  },
  {
   "cell_type": "markdown",
   "metadata": {},
   "source": [
    "## Read images"
   ]
  },
  {
   "cell_type": "code",
   "execution_count": 12,
   "metadata": {},
   "outputs": [],
   "source": [
    "def read_images(folder, n_patients=0):\n",
    "    '''\n",
    "    Function that returns a list with all the images retrieved. The number of patients can be limited to avoid large sizes.\n",
    "    Each element of the list consists of a dictionary with two keys: 'img' and 'info'.\n",
    "    The 'img' key contains the image itself.\n",
    "    The 'info' key contains a list with information about the image\n",
    "    '''\n",
    "    # Check if the folder exists\n",
    "    if not os.path.exists(folder):\n",
    "        print(f\"Folder does not exist: {folder}\")  \n",
    "\n",
    "    # Read images\n",
    "    images = []\n",
    "    patients = []\n",
    "    for img in os.listdir(folder):\n",
    "        if (n_patients == 0) or (len(patients) < n_patients): # Limit patients\n",
    "            if img.endswith(('.png', '.jpg', '.jpeg')):\n",
    "                temp_path = os.path.join(folder, img)\n",
    "\n",
    "                temp_dict = {}  \n",
    "                temp_dict['img'] = [Image.open(temp_path).convert(\"RGB\")] # Image in RGB ready to be processed          \n",
    "                temp_dict['info'] = os.path.splitext(img)[0].split('__') # List with the image information\n",
    "                if temp_dict['info'][0] not in patients:\n",
    "                    patients.append(temp_dict['info'][0])\n",
    "                images.append(temp_dict)\n",
    "            \n",
    "    \n",
    "    return images, patients"
   ]
  },
  {
   "cell_type": "code",
   "execution_count": null,
   "metadata": {},
   "outputs": [
    {
     "name": "stdout",
     "output_type": "stream",
     "text": [
      "2508 11636\n"
     ]
    }
   ],
   "source": [
    "# Calling function to read train and test sets\n",
    "train_imgs, train_pat = read_images(\"Training_Set\")\n",
    "test_imgs, test_pat = read_images(\"Test_Set\", n_patients=20) # Only 20 patients to avoid too large files\n",
    "print(len(train_imgs), len(test_imgs))"
   ]
  },
  {
   "cell_type": "code",
   "execution_count": 16,
   "metadata": {},
   "outputs": [
    {
     "data": {
      "text/plain": [
       "{'img': [<PIL.Image.Image image mode=RGB size=256x256>],\n",
       " 'info': ['B22-114', '112_Aug7', '1']}"
      ]
     },
     "execution_count": 16,
     "metadata": {},
     "output_type": "execute_result"
    }
   ],
   "source": [
    "# 1 -> has bacteria // -1 -> does not have bacteria\n",
    "train_imgs[69] "
   ]
  },
  {
   "cell_type": "code",
   "execution_count": 17,
   "metadata": {},
   "outputs": [
    {
     "data": {
      "text/plain": [
       "{'img': [<PIL.Image.Image image mode=RGB size=256x256>],\n",
       " 'info': ['B22-01', '163']}"
      ]
     },
     "execution_count": 17,
     "metadata": {},
     "output_type": "execute_result"
    }
   ],
   "source": [
    "test_imgs[69]"
   ]
  },
  {
   "cell_type": "code",
   "execution_count": 18,
   "metadata": {},
   "outputs": [],
   "source": [
    "# Save images onto a pickle file\n",
    "with open('train_imgs.pkl', 'wb') as f:\n",
    "    pickle.dump(train_imgs, f)\n",
    "with open('test_imgs.pkl', 'wb') as f:\n",
    "    pickle.dump(test_imgs, f)"
   ]
  }
 ],
 "metadata": {
  "kernelspec": {
   "display_name": "base",
   "language": "python",
   "name": "python3"
  },
  "language_info": {
   "codemirror_mode": {
    "name": "ipython",
    "version": 3
   },
   "file_extension": ".py",
   "mimetype": "text/x-python",
   "name": "python",
   "nbconvert_exporter": "python",
   "pygments_lexer": "ipython3",
   "version": "3.11.9"
  }
 },
 "nbformat": 4,
 "nbformat_minor": 2
}
